{
 "cells": [
  {
   "cell_type": "code",
   "execution_count": 1,
   "metadata": {},
   "outputs": [
    {
     "name": "stdout",
     "output_type": "stream",
     "text": [
      "Using device: cuda\n"
     ]
    }
   ],
   "source": [
    "import torch\n",
    "from torch.utils.data import Dataset, DataLoader\n",
    "from torchvision import transforms\n",
    "import pandas as pd\n",
    "from PIL import Image\n",
    "from sklearn.model_selection import train_test_split\n",
    "import os\n",
    "\n",
    "device = torch.device(\"cuda\" if torch.cuda.is_available() else \"cpu\")\n",
    "print(\"Using device:\", device)"
   ]
  },
  {
   "cell_type": "code",
   "execution_count": 2,
   "metadata": {},
   "outputs": [],
   "source": [
    "class CustomImageDataset(Dataset):\n",
    "    def __init__(self, annotations_file, img_dir, transform=None):\n",
    "        self.img_labels = pd.read_csv(annotations_file)\n",
    "        self.img_dir = img_dir\n",
    "        self.transform = transform\n",
    "\n",
    "    def __len__(self):\n",
    "        return len(self.img_labels)\n",
    "\n",
    "    def __getitem__(self, idx):\n",
    "        img_path = os.path.join(self.img_dir, self.img_labels.iloc[idx, 0])\n",
    "        image = Image.open(img_path).convert('L')  # Convert to grayscale\n",
    "        label = self.img_labels.iloc[idx, 1]\n",
    "        if self.transform:\n",
    "            image = self.transform(image)\n",
    "        return image, label\n",
    "\n",
    "# Define transformations\n",
    "transform = transforms.Compose([\n",
    "    transforms.Resize((150, 150)),\n",
    "    transforms.ToTensor()\n",
    "])\n",
    "\n",
    "# Load dataset\n",
    "dataset = CustomImageDataset(\n",
    "    annotations_file='labels.csv',\n",
    "    img_dir='',\n",
    "    transform=transform\n",
    ")\n",
    "\n",
    "# Split dataset into training and testing set\n",
    "train_dataset, test_dataset = train_test_split(dataset, test_size=0.2, random_state=201)\n",
    "test_dataset, val_dataset = train_test_split(test_dataset, test_size=0.5, random_state=2)  # Further split for validation\n",
    "\n",
    "train_loader = DataLoader(train_dataset, batch_size=64, shuffle=True)\n",
    "val_loader = DataLoader(val_dataset, batch_size=64)\n",
    "test_loader = DataLoader(test_dataset, batch_size=64)\n"
   ]
  },
  {
   "cell_type": "code",
   "execution_count": 3,
   "metadata": {},
   "outputs": [
    {
     "data": {
      "text/plain": [
       "(26824, 3353, 3354)"
      ]
     },
     "execution_count": 3,
     "metadata": {},
     "output_type": "execute_result"
    }
   ],
   "source": [
    "len(train_dataset),len(test_dataset),len(val_dataset)"
   ]
  },
  {
   "cell_type": "code",
   "execution_count": 4,
   "metadata": {},
   "outputs": [],
   "source": [
    "import torch.nn as nn\n",
    "import torch.nn.functional as F\n",
    "\n",
    "class BreastCancerModel(nn.Module):\n",
    "    def __init__(self):\n",
    "        super(BreastCancerModel, self).__init__()\n",
    "        self.conv1 = nn.Conv2d(1, 32, kernel_size=3, padding=1)\n",
    "        self.conv2 = nn.Conv2d(32, 64, kernel_size=3, padding=1)\n",
    "        self.conv3 = nn.Conv2d(64, 128, kernel_size=3, padding=1)\n",
    "        self.conv4 = nn.Conv2d(128, 256, kernel_size=3, padding=1)\n",
    "        self.conv5 = nn.Conv2d(256, 128, kernel_size=3, padding=1)\n",
    "        self.conv6 = nn.Conv2d(128, 64, kernel_size=3, padding=1)\n",
    "        self.conv7 = nn.Conv2d(64, 32, kernel_size=3, padding=1)\n",
    "        self.pool = nn.MaxPool2d(kernel_size=2, stride=2)\n",
    "        self.dropout = nn.Dropout(0.2)\n",
    "        self.flatten = nn.Flatten()\n",
    "\n",
    "        # 3 maxpool lag, 150 / 2 / 2 / 2 = 18\n",
    "        self.fc2 = nn.Linear(32 * 18 * 18, 1)\n",
    "    def forward(self, x):\n",
    "        x = F.relu(self.conv1(x))\n",
    "        x = self.pool(F.relu(self.conv2(x)))\n",
    "        x = F.relu(self.conv3(x))\n",
    "        x = self.pool(F.relu(self.conv4(x)))\n",
    "        x = F.relu(self.conv5(x))\n",
    "        x = self.pool(F.relu(self.conv6(x)))\n",
    "        x = F.relu(self.conv7(x))\n",
    "        x = self.flatten(x)\n",
    "        x = self.dropout(x)\n",
    "        x = self.fc2(x)\n",
    "        return x\n",
    "\n",
    "model = BreastCancerModel().to(device)\n"
   ]
  },
  {
   "cell_type": "code",
   "execution_count": 8,
   "metadata": {},
   "outputs": [],
   "source": [
    "optimizer = torch.optim.Adam(model.parameters(), lr=0.001)\n",
    "weight_for_positives = 15\n",
    "criterion = nn.BCEWithLogitsLoss(pos_weight=torch.tensor([weight_for_positives], device=device))\n",
    "\n",
    "\n",
    "\n",
    "num_epochs = 100"
   ]
  },
  {
   "cell_type": "code",
   "execution_count": 11,
   "metadata": {},
   "outputs": [
    {
     "name": "stdout",
     "output_type": "stream",
     "text": [
      "Epoch 1/100, Train Loss: 0.0100, Train Accuracy: 82.33%, Val Loss: 0.0137, Val Accuracy: 79.87%\n",
      "Epoch 2/100, Train Loss: 0.0095, Train Accuracy: 83.10%, Val Loss: 0.0123, Val Accuracy: 80.17%\n",
      "Epoch 3/100, Train Loss: 0.0092, Train Accuracy: 83.76%, Val Loss: 0.0157, Val Accuracy: 80.71%\n",
      "Epoch 4/100, Train Loss: 0.0089, Train Accuracy: 83.88%, Val Loss: 0.0148, Val Accuracy: 85.24%\n",
      "Epoch 5/100, Train Loss: 0.0087, Train Accuracy: 84.76%, Val Loss: 0.0149, Val Accuracy: 81.75%\n",
      "Epoch 6/100, Train Loss: 0.0085, Train Accuracy: 84.71%, Val Loss: 0.0149, Val Accuracy: 82.59%\n",
      "Epoch 7/100, Train Loss: 0.0084, Train Accuracy: 85.14%, Val Loss: 0.0148, Val Accuracy: 84.14%\n",
      "Epoch 8/100, Train Loss: 0.0085, Train Accuracy: 85.24%, Val Loss: 0.0136, Val Accuracy: 81.72%\n",
      "Epoch 9/100, Train Loss: 0.0080, Train Accuracy: 85.96%, Val Loss: 0.0190, Val Accuracy: 85.87%\n",
      "Epoch 10/100, Train Loss: 0.0074, Train Accuracy: 87.13%, Val Loss: 0.0163, Val Accuracy: 85.96%\n",
      "Epoch 11/100, Train Loss: 0.0075, Train Accuracy: 86.80%, Val Loss: 0.0156, Val Accuracy: 85.96%\n",
      "Epoch 12/100, Train Loss: 0.0073, Train Accuracy: 87.44%, Val Loss: 0.0177, Val Accuracy: 85.72%\n",
      "Epoch 13/100, Train Loss: 0.0071, Train Accuracy: 87.82%, Val Loss: 0.0145, Val Accuracy: 83.54%\n",
      "Epoch 14/100, Train Loss: 0.0074, Train Accuracy: 87.29%, Val Loss: 0.0173, Val Accuracy: 86.14%\n",
      "Epoch 15/100, Train Loss: 0.0067, Train Accuracy: 88.45%, Val Loss: 0.0174, Val Accuracy: 85.42%\n",
      "Epoch 16/100, Train Loss: 0.0065, Train Accuracy: 88.87%, Val Loss: 0.0162, Val Accuracy: 85.39%\n",
      "Epoch 17/100, Train Loss: 0.0063, Train Accuracy: 89.23%, Val Loss: 0.0195, Val Accuracy: 85.75%\n",
      "Epoch 18/100, Train Loss: 0.0065, Train Accuracy: 88.73%, Val Loss: 0.0217, Val Accuracy: 87.72%\n",
      "Epoch 19/100, Train Loss: 0.0062, Train Accuracy: 89.45%, Val Loss: 0.0159, Val Accuracy: 83.78%\n",
      "Epoch 20/100, Train Loss: 0.0066, Train Accuracy: 89.03%, Val Loss: 0.0158, Val Accuracy: 80.05%\n",
      "Epoch 21/100, Train Loss: 0.0068, Train Accuracy: 88.58%, Val Loss: 0.0157, Val Accuracy: 83.75%\n",
      "Epoch 22/100, Train Loss: 0.0059, Train Accuracy: 89.65%, Val Loss: 0.0184, Val Accuracy: 88.73%\n",
      "Epoch 23/100, Train Loss: 0.0057, Train Accuracy: 90.21%, Val Loss: 0.0186, Val Accuracy: 86.58%\n",
      "Epoch 24/100, Train Loss: 0.0055, Train Accuracy: 90.59%, Val Loss: 0.0217, Val Accuracy: 88.16%\n",
      "Epoch 25/100, Train Loss: 0.0056, Train Accuracy: 90.47%, Val Loss: 0.0237, Val Accuracy: 88.58%\n",
      "Epoch 26/100, Train Loss: 0.0056, Train Accuracy: 90.47%, Val Loss: 0.0204, Val Accuracy: 85.87%\n",
      "Epoch 27/100, Train Loss: 0.0056, Train Accuracy: 90.62%, Val Loss: 0.0178, Val Accuracy: 83.84%\n",
      "Epoch 28/100, Train Loss: 0.0057, Train Accuracy: 90.50%, Val Loss: 0.0271, Val Accuracy: 90.43%\n",
      "Epoch 29/100, Train Loss: 0.0052, Train Accuracy: 91.39%, Val Loss: 0.0184, Val Accuracy: 86.11%\n",
      "Epoch 30/100, Train Loss: 0.0053, Train Accuracy: 91.25%, Val Loss: 0.0184, Val Accuracy: 85.87%\n",
      "Epoch 31/100, Train Loss: 0.0052, Train Accuracy: 91.45%, Val Loss: 0.0252, Val Accuracy: 86.73%\n",
      "Epoch 32/100, Train Loss: 0.0049, Train Accuracy: 91.86%, Val Loss: 0.0213, Val Accuracy: 88.91%\n",
      "Epoch 33/100, Train Loss: 0.0052, Train Accuracy: 91.50%, Val Loss: 0.0268, Val Accuracy: 87.27%\n",
      "Epoch 34/100, Train Loss: 0.0052, Train Accuracy: 91.50%, Val Loss: 0.0197, Val Accuracy: 88.25%\n",
      "Epoch 35/100, Train Loss: 0.0048, Train Accuracy: 91.93%, Val Loss: 0.0237, Val Accuracy: 88.76%\n",
      "Epoch 36/100, Train Loss: 0.0051, Train Accuracy: 91.64%, Val Loss: 0.0296, Val Accuracy: 89.27%\n",
      "Epoch 37/100, Train Loss: 0.0046, Train Accuracy: 92.38%, Val Loss: 0.0307, Val Accuracy: 89.62%\n",
      "Epoch 38/100, Train Loss: 0.0052, Train Accuracy: 91.32%, Val Loss: 0.0230, Val Accuracy: 88.88%\n",
      "Epoch 39/100, Train Loss: 0.0051, Train Accuracy: 91.84%, Val Loss: 0.0283, Val Accuracy: 88.04%\n",
      "Epoch 40/100, Train Loss: 0.0044, Train Accuracy: 92.63%, Val Loss: 0.0267, Val Accuracy: 89.33%\n",
      "Epoch 41/100, Train Loss: 0.0045, Train Accuracy: 92.79%, Val Loss: 0.0282, Val Accuracy: 87.98%\n",
      "Epoch 42/100, Train Loss: 0.0043, Train Accuracy: 92.93%, Val Loss: 0.0333, Val Accuracy: 89.09%\n",
      "Epoch 43/100, Train Loss: 0.0042, Train Accuracy: 93.07%, Val Loss: 0.0307, Val Accuracy: 89.18%\n",
      "Epoch 44/100, Train Loss: 0.0044, Train Accuracy: 92.90%, Val Loss: 0.0261, Val Accuracy: 88.49%\n",
      "Epoch 45/100, Train Loss: 0.0044, Train Accuracy: 92.72%, Val Loss: 0.0288, Val Accuracy: 89.06%\n",
      "Epoch 46/100, Train Loss: 0.0043, Train Accuracy: 93.03%, Val Loss: 0.0304, Val Accuracy: 89.24%\n",
      "Epoch 47/100, Train Loss: 0.0043, Train Accuracy: 93.01%, Val Loss: 0.0415, Val Accuracy: 90.61%\n",
      "Epoch 48/100, Train Loss: 0.0047, Train Accuracy: 92.54%, Val Loss: 0.0331, Val Accuracy: 88.49%\n",
      "Epoch 49/100, Train Loss: 0.0041, Train Accuracy: 93.25%, Val Loss: 0.0294, Val Accuracy: 89.92%\n",
      "Epoch 50/100, Train Loss: 0.0039, Train Accuracy: 93.70%, Val Loss: 0.0339, Val Accuracy: 89.51%\n",
      "Epoch 51/100, Train Loss: 0.0043, Train Accuracy: 93.05%, Val Loss: 0.0331, Val Accuracy: 88.85%\n",
      "Epoch 52/100, Train Loss: 0.0042, Train Accuracy: 93.42%, Val Loss: 0.0281, Val Accuracy: 87.57%\n",
      "Epoch 53/100, Train Loss: 0.0041, Train Accuracy: 93.31%, Val Loss: 0.0315, Val Accuracy: 88.88%\n",
      "Epoch 54/100, Train Loss: 0.0037, Train Accuracy: 93.77%, Val Loss: 0.0383, Val Accuracy: 90.91%\n",
      "Epoch 55/100, Train Loss: 0.0043, Train Accuracy: 93.55%, Val Loss: 0.0263, Val Accuracy: 87.54%\n",
      "Epoch 56/100, Train Loss: 0.0039, Train Accuracy: 93.55%, Val Loss: 0.0308, Val Accuracy: 88.94%\n",
      "Epoch 57/100, Train Loss: 0.0044, Train Accuracy: 93.17%, Val Loss: 0.0204, Val Accuracy: 86.91%\n",
      "Epoch 58/100, Train Loss: 0.0043, Train Accuracy: 93.60%, Val Loss: 0.0296, Val Accuracy: 88.13%\n",
      "Epoch 59/100, Train Loss: 0.0045, Train Accuracy: 93.00%, Val Loss: 0.0349, Val Accuracy: 89.98%\n",
      "Epoch 60/100, Train Loss: 0.0051, Train Accuracy: 92.03%, Val Loss: 0.0314, Val Accuracy: 89.98%\n",
      "Epoch 61/100, Train Loss: 0.0032, Train Accuracy: 94.71%, Val Loss: 0.0336, Val Accuracy: 89.00%\n",
      "Epoch 62/100, Train Loss: 0.0034, Train Accuracy: 94.66%, Val Loss: 0.0393, Val Accuracy: 91.06%\n",
      "Epoch 63/100, Train Loss: 0.0038, Train Accuracy: 94.05%, Val Loss: 0.0347, Val Accuracy: 90.88%\n",
      "Epoch 64/100, Train Loss: 0.0038, Train Accuracy: 93.99%, Val Loss: 0.0274, Val Accuracy: 89.48%\n",
      "Epoch 65/100, Train Loss: 0.0038, Train Accuracy: 94.05%, Val Loss: 0.0340, Val Accuracy: 90.37%\n",
      "Epoch 66/100, Train Loss: 0.0039, Train Accuracy: 94.12%, Val Loss: 0.0396, Val Accuracy: 90.52%\n",
      "Epoch 67/100, Train Loss: 0.0036, Train Accuracy: 94.15%, Val Loss: 0.0293, Val Accuracy: 88.31%\n",
      "Epoch 68/100, Train Loss: 0.0044, Train Accuracy: 93.59%, Val Loss: 0.0279, Val Accuracy: 88.40%\n",
      "Epoch 69/100, Train Loss: 0.0035, Train Accuracy: 94.45%, Val Loss: 0.0309, Val Accuracy: 89.80%\n",
      "Epoch 70/100, Train Loss: 0.0033, Train Accuracy: 94.61%, Val Loss: 0.0299, Val Accuracy: 89.98%\n",
      "Epoch 71/100, Train Loss: 0.0036, Train Accuracy: 94.45%, Val Loss: 0.0365, Val Accuracy: 90.94%\n",
      "Epoch 72/100, Train Loss: 0.0037, Train Accuracy: 94.55%, Val Loss: 0.0376, Val Accuracy: 89.80%\n",
      "Epoch 73/100, Train Loss: 0.0033, Train Accuracy: 94.59%, Val Loss: 0.0367, Val Accuracy: 89.36%\n",
      "Epoch 74/100, Train Loss: 0.0035, Train Accuracy: 94.52%, Val Loss: 0.0324, Val Accuracy: 87.18%\n",
      "Epoch 75/100, Train Loss: 0.0035, Train Accuracy: 94.54%, Val Loss: 0.0411, Val Accuracy: 91.03%\n",
      "Epoch 76/100, Train Loss: 0.0044, Train Accuracy: 93.98%, Val Loss: 0.0278, Val Accuracy: 87.36%\n",
      "Epoch 77/100, Train Loss: 0.0037, Train Accuracy: 94.24%, Val Loss: 0.0353, Val Accuracy: 89.27%\n",
      "Epoch 78/100, Train Loss: 0.0034, Train Accuracy: 94.74%, Val Loss: 0.0349, Val Accuracy: 88.73%\n",
      "Epoch 79/100, Train Loss: 0.0032, Train Accuracy: 94.88%, Val Loss: 0.0309, Val Accuracy: 89.59%\n",
      "Epoch 80/100, Train Loss: 0.0034, Train Accuracy: 94.53%, Val Loss: 0.0371, Val Accuracy: 88.97%\n",
      "Epoch 81/100, Train Loss: 0.0033, Train Accuracy: 94.74%, Val Loss: 0.0500, Val Accuracy: 90.67%\n",
      "Epoch 82/100, Train Loss: 0.0035, Train Accuracy: 94.56%, Val Loss: 0.0292, Val Accuracy: 88.34%\n",
      "Epoch 83/100, Train Loss: 0.0033, Train Accuracy: 95.02%, Val Loss: 0.0242, Val Accuracy: 87.36%\n",
      "Epoch 84/100, Train Loss: 0.0033, Train Accuracy: 95.03%, Val Loss: 0.0390, Val Accuracy: 90.13%\n",
      "Epoch 85/100, Train Loss: 0.0039, Train Accuracy: 94.15%, Val Loss: 0.0366, Val Accuracy: 89.68%\n",
      "Epoch 86/100, Train Loss: 0.0033, Train Accuracy: 94.88%, Val Loss: 0.0331, Val Accuracy: 89.51%\n",
      "Epoch 87/100, Train Loss: 0.0030, Train Accuracy: 95.43%, Val Loss: 0.0419, Val Accuracy: 90.10%\n",
      "Epoch 88/100, Train Loss: 0.0030, Train Accuracy: 95.31%, Val Loss: 0.0334, Val Accuracy: 87.51%\n",
      "Epoch 89/100, Train Loss: 0.0037, Train Accuracy: 94.70%, Val Loss: 0.0486, Val Accuracy: 90.67%\n",
      "Epoch 90/100, Train Loss: 0.0032, Train Accuracy: 95.16%, Val Loss: 0.0337, Val Accuracy: 86.05%\n",
      "Epoch 91/100, Train Loss: 0.0041, Train Accuracy: 93.82%, Val Loss: 0.0451, Val Accuracy: 90.34%\n",
      "Epoch 92/100, Train Loss: 0.0030, Train Accuracy: 95.35%, Val Loss: 0.0522, Val Accuracy: 90.82%\n",
      "Epoch 93/100, Train Loss: 0.0037, Train Accuracy: 94.55%, Val Loss: 0.0391, Val Accuracy: 90.10%\n",
      "Epoch 94/100, Train Loss: 0.0036, Train Accuracy: 94.84%, Val Loss: 0.0263, Val Accuracy: 86.70%\n",
      "Epoch 95/100, Train Loss: 0.0033, Train Accuracy: 94.96%, Val Loss: 0.0485, Val Accuracy: 90.58%\n",
      "Epoch 96/100, Train Loss: 0.0029, Train Accuracy: 95.47%, Val Loss: 0.0295, Val Accuracy: 88.10%\n",
      "Epoch 97/100, Train Loss: 0.0030, Train Accuracy: 95.25%, Val Loss: 0.0393, Val Accuracy: 90.73%\n",
      "Epoch 98/100, Train Loss: 0.0028, Train Accuracy: 95.58%, Val Loss: 0.0356, Val Accuracy: 89.77%\n",
      "Epoch 99/100, Train Loss: 0.0034, Train Accuracy: 94.98%, Val Loss: 0.0345, Val Accuracy: 89.71%\n",
      "Epoch 100/100, Train Loss: 0.0031, Train Accuracy: 95.31%, Val Loss: 0.0415, Val Accuracy: 89.56%\n"
     ]
    }
   ],
   "source": [
    "for epoch in range(num_epochs):\n",
    "    # Training phase\n",
    "    model.train()\n",
    "    train_loss, train_correct, train_total = 0, 0, 0\n",
    "    for images, labels in train_loader:\n",
    "        images, labels = images.to(device), labels.to(device).unsqueeze(1).type(torch.float32)\n",
    "        optimizer.zero_grad()\n",
    "        outputs = model(images)\n",
    "        \n",
    "        loss = criterion(outputs, labels)\n",
    "        loss.backward()\n",
    "        optimizer.step()\n",
    "        train_loss += loss.item()\n",
    "\n",
    "        predicted = torch.sigmoid(outputs) > 0.5\n",
    "        \n",
    "        train_total += labels.size(0)\n",
    "        train_correct += (predicted == labels).sum().item()\n",
    "\n",
    "    train_accuracy = 100 * train_correct / train_total\n",
    "\n",
    "    # Validation phase\n",
    "    model.eval()\n",
    "    val_loss, val_correct, val_total = 0, 0, 0\n",
    "    with torch.no_grad():\n",
    "        for images, labels in val_loader:\n",
    "            images, labels = images.to(device), labels.to(device).unsqueeze(1).type(torch.float32)\n",
    "            outputs = model(images)\n",
    "            loss = criterion(outputs, labels)\n",
    "            val_loss += loss.item()\n",
    "            predicted = torch.sigmoid(outputs) > 0.5\n",
    "            val_total += labels.size(0)\n",
    "            val_correct += (predicted == labels).sum().item()\n",
    "\n",
    "    val_accuracy = 100 * val_correct / val_total\n",
    "\n",
    "    print(f'Epoch {epoch+1}/{num_epochs}, Train Loss: {train_loss/train_total:.4f}, Train Accuracy: {train_accuracy:.2f}%, Val Loss: {val_loss/val_total:.4f}, Val Accuracy: {val_accuracy:.2f}%')"
   ]
  },
  {
   "cell_type": "code",
   "execution_count": 12,
   "metadata": {},
   "outputs": [],
   "source": [
    "torch.save(model.state_dict(), 'Cancer_vægt15.pth')"
   ]
  },
  {
   "cell_type": "code",
   "execution_count": 24,
   "metadata": {},
   "outputs": [
    {
     "data": {
      "text/plain": [
       "<All keys matched successfully>"
      ]
     },
     "execution_count": 24,
     "metadata": {},
     "output_type": "execute_result"
    }
   ],
   "source": [
    "model.load_state_dict(torch.load(\"breast_cancer_model3.pth\"))"
   ]
  },
  {
   "cell_type": "code",
   "execution_count": 25,
   "metadata": {},
   "outputs": [
    {
     "name": "stdout",
     "output_type": "stream",
     "text": [
      "Test Accuracy: 92.18610199821056%\n",
      "False Positives: 71\n",
      "False Negatives: 191\n"
     ]
    }
   ],
   "source": [
    "model.eval()\n",
    "test_loss, correct, total, false_positives, false_negatives = 0, 0, 0, 0, 0\n",
    "\n",
    "with torch.no_grad():\n",
    "    for images, labels in test_loader:\n",
    "        images, labels = images.to(device), labels.to(device).unsqueeze(1).type(torch.float32)\n",
    "        outputs = model(images)\n",
    "        loss = criterion(outputs, labels)\n",
    "        test_loss += loss.item()\n",
    "        predicted = torch.sigmoid(outputs) > 0.5\n",
    "        total += labels.size(0)\n",
    "        correct += (predicted == labels).sum().item()\n",
    "\n",
    "        # Calculate False Positives and False Negatives\n",
    "        false_positives += ((predicted == 1) & (labels == 0)).sum().item()\n",
    "        false_negatives += ((predicted == 0) & (labels == 1)).sum().item()\n",
    "\n",
    "print(f'Test Accuracy: {100 * correct / total}%')\n",
    "print(f'False Positives: {false_positives}')\n",
    "print(f'False Negatives: {false_negatives}')\n"
   ]
  }
 ],
 "metadata": {
  "kernelspec": {
   "display_name": "Python 3 (ipykernel)",
   "language": "python",
   "name": "python3"
  },
  "language_info": {
   "codemirror_mode": {
    "name": "ipython",
    "version": 3
   },
   "file_extension": ".py",
   "mimetype": "text/x-python",
   "name": "python",
   "nbconvert_exporter": "python",
   "pygments_lexer": "ipython3",
   "version": "3.10.11"
  },
  "orig_nbformat": 4,
  "vscode": {
   "interpreter": {
    "hash": "f7c150d5b553c4eb39b6102e8b0b12a3e6500b3de8f47824188f29ce6c5881e3"
   }
  }
 },
 "nbformat": 4,
 "nbformat_minor": 2
}
